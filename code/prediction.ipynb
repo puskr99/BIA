{
 "cells": [
  {
   "cell_type": "code",
   "execution_count": 1,
   "id": "9e1ea581",
   "metadata": {},
   "outputs": [],
   "source": [
    "import pandas as pd\n",
    "import numpy as np\n",
    "import seaborn as sns\n",
    "import matplotlib.pyplot as plt"
   ]
  },
  {
   "cell_type": "code",
   "execution_count": 2,
   "id": "078514e7",
   "metadata": {},
   "outputs": [
    {
     "name": "stderr",
     "output_type": "stream",
     "text": [
      "/tmp/ipykernel_9818/3963953144.py:1: DtypeWarning: Columns (10,29) have mixed types. Specify dtype option on import or set low_memory=False.\n",
      "  data = pd.read_csv('../data/bia.csv')\n"
     ]
    },
    {
     "data": {
      "text/html": [
       "<div>\n",
       "<style scoped>\n",
       "    .dataframe tbody tr th:only-of-type {\n",
       "        vertical-align: middle;\n",
       "    }\n",
       "\n",
       "    .dataframe tbody tr th {\n",
       "        vertical-align: top;\n",
       "    }\n",
       "\n",
       "    .dataframe thead th {\n",
       "        text-align: right;\n",
       "    }\n",
       "</style>\n",
       "<table border=\"1\" class=\"dataframe\">\n",
       "  <thead>\n",
       "    <tr style=\"text-align: right;\">\n",
       "      <th></th>\n",
       "      <th>hospital_service_area</th>\n",
       "      <th>hospital_county</th>\n",
       "      <th>operating_certificate_number</th>\n",
       "      <th>permanent_facility_id</th>\n",
       "      <th>facility_name</th>\n",
       "      <th>age_group</th>\n",
       "      <th>zip_code_3_digits</th>\n",
       "      <th>gender</th>\n",
       "      <th>race</th>\n",
       "      <th>ethnicity</th>\n",
       "      <th>...</th>\n",
       "      <th>apr_severity_of_illness</th>\n",
       "      <th>apr_risk_of_mortality</th>\n",
       "      <th>apr_medical_surgical</th>\n",
       "      <th>payment_typology_1</th>\n",
       "      <th>payment_typology_2</th>\n",
       "      <th>payment_typology_3</th>\n",
       "      <th>birth_weight</th>\n",
       "      <th>emergency_department_indicator</th>\n",
       "      <th>total_charges</th>\n",
       "      <th>total_costs</th>\n",
       "    </tr>\n",
       "  </thead>\n",
       "  <tbody>\n",
       "    <tr>\n",
       "      <th>0</th>\n",
       "      <td>New York City</td>\n",
       "      <td>Bronx</td>\n",
       "      <td>7000008.0</td>\n",
       "      <td>1172.0</td>\n",
       "      <td>Lincoln Medical &amp; Mental Health Center</td>\n",
       "      <td>50 to 69</td>\n",
       "      <td>104</td>\n",
       "      <td>F</td>\n",
       "      <td>Other Race</td>\n",
       "      <td>Unknown</td>\n",
       "      <td>...</td>\n",
       "      <td>Extreme</td>\n",
       "      <td>Extreme</td>\n",
       "      <td>Medical</td>\n",
       "      <td>Medicare</td>\n",
       "      <td>Medicaid</td>\n",
       "      <td>NaN</td>\n",
       "      <td>NaN</td>\n",
       "      <td>Y</td>\n",
       "      <td>487,295.01</td>\n",
       "      <td>311,442.42</td>\n",
       "    </tr>\n",
       "    <tr>\n",
       "      <th>1</th>\n",
       "      <td>New York City</td>\n",
       "      <td>Kings</td>\n",
       "      <td>7001016.0</td>\n",
       "      <td>1301.0</td>\n",
       "      <td>Kings County Hospital Center</td>\n",
       "      <td>70 or Older</td>\n",
       "      <td>112</td>\n",
       "      <td>M</td>\n",
       "      <td>Black/African American</td>\n",
       "      <td>Unknown</td>\n",
       "      <td>...</td>\n",
       "      <td>Moderate</td>\n",
       "      <td>Moderate</td>\n",
       "      <td>Medical</td>\n",
       "      <td>Private Health Insurance</td>\n",
       "      <td>Medicare</td>\n",
       "      <td>NaN</td>\n",
       "      <td>NaN</td>\n",
       "      <td>Y</td>\n",
       "      <td>12,299.22</td>\n",
       "      <td>8,878.39</td>\n",
       "    </tr>\n",
       "  </tbody>\n",
       "</table>\n",
       "<p>2 rows × 33 columns</p>\n",
       "</div>"
      ],
      "text/plain": [
       "  hospital_service_area hospital_county  operating_certificate_number  \\\n",
       "0         New York City           Bronx                     7000008.0   \n",
       "1         New York City           Kings                     7001016.0   \n",
       "\n",
       "   permanent_facility_id                           facility_name    age_group  \\\n",
       "0                 1172.0  Lincoln Medical & Mental Health Center     50 to 69   \n",
       "1                 1301.0            Kings County Hospital Center  70 or Older   \n",
       "\n",
       "  zip_code_3_digits gender                    race ethnicity  ...  \\\n",
       "0               104      F              Other Race   Unknown  ...   \n",
       "1               112      M  Black/African American   Unknown  ...   \n",
       "\n",
       "  apr_severity_of_illness apr_risk_of_mortality apr_medical_surgical  \\\n",
       "0                 Extreme               Extreme              Medical   \n",
       "1                Moderate              Moderate              Medical   \n",
       "\n",
       "         payment_typology_1 payment_typology_2 payment_typology_3  \\\n",
       "0                  Medicare           Medicaid                NaN   \n",
       "1  Private Health Insurance           Medicare                NaN   \n",
       "\n",
       "  birth_weight emergency_department_indicator  total_charges total_costs  \n",
       "0          NaN                              Y     487,295.01  311,442.42  \n",
       "1          NaN                              Y      12,299.22    8,878.39  \n",
       "\n",
       "[2 rows x 33 columns]"
      ]
     },
     "execution_count": 2,
     "metadata": {},
     "output_type": "execute_result"
    }
   ],
   "source": [
    "data = pd.read_csv('../data/bia.csv')\n",
    "data.head(2)"
   ]
  },
  {
   "cell_type": "code",
   "execution_count": 3,
   "id": "c6c712b7",
   "metadata": {},
   "outputs": [
    {
     "data": {
      "text/plain": [
       "array(['F', 'M', 'U'], dtype=object)"
      ]
     },
     "execution_count": 3,
     "metadata": {},
     "output_type": "execute_result"
    }
   ],
   "source": [
    "data['gender'].unique()"
   ]
  },
  {
   "cell_type": "code",
   "execution_count": 4,
   "id": "27079900",
   "metadata": {},
   "outputs": [
    {
     "data": {
      "text/plain": [
       "<Axes: xlabel='count', ylabel='gender'>"
      ]
     },
     "execution_count": 4,
     "metadata": {},
     "output_type": "execute_result"
    },
    {
     "data": {
      "image/png": "[encoded data removed]",
      "text/plain": [
       "<Figure size 640x480 with 1 Axes>"
      ]
     },
     "metadata": {},
     "output_type": "display_data"
    }
   ],
   "source": [
    "sns.countplot(data['gender'])"
   ]
  },
  {
   "cell_type": "code",
   "execution_count": 5,
   "id": "2b4eed97",
   "metadata": {},
   "outputs": [
    {
     "data": {
      "text/plain": [
       "array([0, 1, 2])"
      ]
     },
     "execution_count": 5,
     "metadata": {},
     "output_type": "execute_result"
    }
   ],
   "source": [
    "data['gender'] = data['gender'].map({\"F\": 0, \"M\": 1, \"U\": 2})\n",
    "data['gender'].unique()"
   ]
  },
  {
   "cell_type": "code",
   "execution_count": 6,
   "id": "16265b38",
   "metadata": {},
   "outputs": [
    {
     "data": {
      "text/plain": [
       "array(['Y', 'N'], dtype=object)"
      ]
     },
     "execution_count": 6,
     "metadata": {},
     "output_type": "execute_result"
    }
   ],
   "source": [
    "data['emergency_department_indicator'].unique()"
   ]
  },
  {
   "cell_type": "code",
   "execution_count": 7,
   "id": "bebd8deb",
   "metadata": {},
   "outputs": [
    {
     "data": {
      "text/plain": [
       "<Axes: xlabel='count', ylabel='emergency_department_indicator'>"
      ]
     },
     "execution_count": 7,
     "metadata": {},
     "output_type": "execute_result"
    },
    {
     "data": {
      "image/png": "[encoded data removed]",
      "text/plain": [
       "<Figure size 640x480 with 1 Axes>"
      ]
     },
     "metadata": {},
     "output_type": "display_data"
    }
   ],
   "source": [
    "sns.countplot(data['emergency_department_indicator'])"
   ]
  },
  {
   "cell_type": "code",
   "execution_count": 8,
   "id": "cb80f97a",
   "metadata": {},
   "outputs": [
    {
     "data": {
      "text/plain": [
       "array([1, 0])"
      ]
     },
     "execution_count": 8,
     "metadata": {},
     "output_type": "execute_result"
    }
   ],
   "source": [
    "data['emergency_department_indicator'] = data['emergency_department_indicator'].map({\"Y\": 1, \"N\": 0})\n",
    "data['emergency_department_indicator'].unique()"
   ]
  },
  {
   "cell_type": "code",
   "execution_count": 9,
   "id": "e40ba4dc",
   "metadata": {},
   "outputs": [
    {
     "data": {
      "text/plain": [
       "<Axes: xlabel='count', ylabel='race'>"
      ]
     },
     "execution_count": 9,
     "metadata": {},
     "output_type": "execute_result"
    },
    {
     "data": {
      "image/png": "[encoded data removed]",
      "text/plain": [
       "<Figure size 640x480 with 1 Axes>"
      ]
     },
     "metadata": {},
     "output_type": "display_data"
    }
   ],
   "source": [
    "sns.countplot(data['race'])"
   ]
  },
  {
   "cell_type": "code",
   "execution_count": 10,
   "id": "28dc62db",
   "metadata": {},
   "outputs": [
    {
     "data": {
      "text/plain": [
       "array(['Other Race', 'Black/African American', 'White', 'Multi-racial'],\n",
       "      dtype=object)"
      ]
     },
     "execution_count": 10,
     "metadata": {},
     "output_type": "execute_result"
    }
   ],
   "source": [
    "data['race'].unique()"
   ]
  },
  {
   "cell_type": "code",
   "execution_count": 11,
   "id": "694a1847",
   "metadata": {},
   "outputs": [
    {
     "data": {
      "text/html": [
       "<div>\n",
       "<style scoped>\n",
       "    .dataframe tbody tr th:only-of-type {\n",
       "        vertical-align: middle;\n",
       "    }\n",
       "\n",
       "    .dataframe tbody tr th {\n",
       "        vertical-align: top;\n",
       "    }\n",
       "\n",
       "    .dataframe thead th {\n",
       "        text-align: right;\n",
       "    }\n",
       "</style>\n",
       "<table border=\"1\" class=\"dataframe\">\n",
       "  <thead>\n",
       "    <tr style=\"text-align: right;\">\n",
       "      <th></th>\n",
       "      <th>hospital_service_area</th>\n",
       "      <th>hospital_county</th>\n",
       "      <th>operating_certificate_number</th>\n",
       "      <th>permanent_facility_id</th>\n",
       "      <th>facility_name</th>\n",
       "      <th>age_group</th>\n",
       "      <th>zip_code_3_digits</th>\n",
       "      <th>gender</th>\n",
       "      <th>ethnicity</th>\n",
       "      <th>length_of_stay</th>\n",
       "      <th>...</th>\n",
       "      <th>payment_typology_2</th>\n",
       "      <th>payment_typology_3</th>\n",
       "      <th>birth_weight</th>\n",
       "      <th>emergency_department_indicator</th>\n",
       "      <th>total_charges</th>\n",
       "      <th>total_costs</th>\n",
       "      <th>Black/African American</th>\n",
       "      <th>Multi-racial</th>\n",
       "      <th>Other Race</th>\n",
       "      <th>White</th>\n",
       "    </tr>\n",
       "  </thead>\n",
       "  <tbody>\n",
       "    <tr>\n",
       "      <th>0</th>\n",
       "      <td>New York City</td>\n",
       "      <td>Bronx</td>\n",
       "      <td>7000008.0</td>\n",
       "      <td>1172.0</td>\n",
       "      <td>Lincoln Medical &amp; Mental Health Center</td>\n",
       "      <td>50 to 69</td>\n",
       "      <td>104</td>\n",
       "      <td>0</td>\n",
       "      <td>Unknown</td>\n",
       "      <td>45</td>\n",
       "      <td>...</td>\n",
       "      <td>Medicaid</td>\n",
       "      <td>NaN</td>\n",
       "      <td>NaN</td>\n",
       "      <td>1</td>\n",
       "      <td>487,295.01</td>\n",
       "      <td>311,442.42</td>\n",
       "      <td>0</td>\n",
       "      <td>0</td>\n",
       "      <td>1</td>\n",
       "      <td>0</td>\n",
       "    </tr>\n",
       "    <tr>\n",
       "      <th>1</th>\n",
       "      <td>New York City</td>\n",
       "      <td>Kings</td>\n",
       "      <td>7001016.0</td>\n",
       "      <td>1301.0</td>\n",
       "      <td>Kings County Hospital Center</td>\n",
       "      <td>70 or Older</td>\n",
       "      <td>112</td>\n",
       "      <td>1</td>\n",
       "      <td>Unknown</td>\n",
       "      <td>1</td>\n",
       "      <td>...</td>\n",
       "      <td>Medicare</td>\n",
       "      <td>NaN</td>\n",
       "      <td>NaN</td>\n",
       "      <td>1</td>\n",
       "      <td>12,299.22</td>\n",
       "      <td>8,878.39</td>\n",
       "      <td>1</td>\n",
       "      <td>0</td>\n",
       "      <td>0</td>\n",
       "      <td>0</td>\n",
       "    </tr>\n",
       "  </tbody>\n",
       "</table>\n",
       "<p>2 rows × 36 columns</p>\n",
       "</div>"
      ],
      "text/plain": [
       "  hospital_service_area hospital_county  operating_certificate_number  \\\n",
       "0         New York City           Bronx                     7000008.0   \n",
       "1         New York City           Kings                     7001016.0   \n",
       "\n",
       "   permanent_facility_id                           facility_name    age_group  \\\n",
       "0                 1172.0  Lincoln Medical & Mental Health Center     50 to 69   \n",
       "1                 1301.0            Kings County Hospital Center  70 or Older   \n",
       "\n",
       "  zip_code_3_digits  gender ethnicity length_of_stay  ... payment_typology_2  \\\n",
       "0               104       0   Unknown             45  ...           Medicaid   \n",
       "1               112       1   Unknown              1  ...           Medicare   \n",
       "\n",
       "  payment_typology_3  birth_weight emergency_department_indicator  \\\n",
       "0                NaN           NaN                              1   \n",
       "1                NaN           NaN                              1   \n",
       "\n",
       "  total_charges total_costs Black/African American  Multi-racial Other Race  \\\n",
       "0    487,295.01  311,442.42                      0             0          1   \n",
       "1     12,299.22    8,878.39                      1             0          0   \n",
       "\n",
       "   White  \n",
       "0      0  \n",
       "1      0  \n",
       "\n",
       "[2 rows x 36 columns]"
      ]
     },
     "execution_count": 11,
     "metadata": {},
     "output_type": "execute_result"
    }
   ],
   "source": [
    "race_data = pd.get_dummies(data['race']).astype('int')\n",
    "data = pd.concat([data, race_data], axis=1)\n",
    "data = data.drop(columns=['race'])\n",
    "data.head(2)"
   ]
  },
  {
   "cell_type": "code",
   "execution_count": 12,
   "id": "2b57c824",
   "metadata": {},
   "outputs": [
    {
     "data": {
      "text/plain": [
       "array(['50 to 69', '70 or Older', '30 to 49', '18 to 29', '0 to 17'],\n",
       "      dtype=object)"
      ]
     },
     "execution_count": 12,
     "metadata": {},
     "output_type": "execute_result"
    }
   ],
   "source": [
    "data['age_group'].unique()"
   ]
  },
  {
   "cell_type": "code",
   "execution_count": 13,
   "id": "459172b8",
   "metadata": {},
   "outputs": [
    {
     "data": {
      "text/plain": [
       "<Axes: xlabel='count', ylabel='age_group'>"
      ]
     },
     "execution_count": 13,
     "metadata": {},
     "output_type": "execute_result"
    },
    {
     "data": {
      "image/png": "[encoded data removed]",
      "text/plain": [
       "<Figure size 640x480 with 1 Axes>"
      ]
     },
     "metadata": {},
     "output_type": "display_data"
    }
   ],
   "source": [
    "sns.countplot(data['age_group'])"
   ]
  },
  {
   "cell_type": "code",
   "execution_count": 14,
   "id": "e17178a9",
   "metadata": {},
   "outputs": [],
   "source": [
    "age_grp_maps = {\n",
    "    '0 to 17': 0,\n",
    "    '18 to 29': 1,\n",
    "    '30 to 49': 2,\n",
    "    '50 to 69': 3,\n",
    "    '70 or Older': 4\n",
    "}\n",
    "\n",
    "data['age_group'] = data['age_group'].map(age_grp_maps)"
   ]
  },
  {
   "cell_type": "code",
   "execution_count": 15,
   "id": "8a9e24a1",
   "metadata": {},
   "outputs": [
    {
     "data": {
      "text/plain": [
       "array([3, 4, 2, 1, 0])"
      ]
     },
     "execution_count": 15,
     "metadata": {},
     "output_type": "execute_result"
    }
   ],
   "source": [
    "data['age_group'].unique()"
   ]
  },
  {
   "cell_type": "code",
   "execution_count": 16,
   "id": "11d34f99",
   "metadata": {},
   "outputs": [
    {
     "data": {
      "text/html": [
       "<div>\n",
       "<style scoped>\n",
       "    .dataframe tbody tr th:only-of-type {\n",
       "        vertical-align: middle;\n",
       "    }\n",
       "\n",
       "    .dataframe tbody tr th {\n",
       "        vertical-align: top;\n",
       "    }\n",
       "\n",
       "    .dataframe thead th {\n",
       "        text-align: right;\n",
       "    }\n",
       "</style>\n",
       "<table border=\"1\" class=\"dataframe\">\n",
       "  <thead>\n",
       "    <tr style=\"text-align: right;\">\n",
       "      <th></th>\n",
       "      <th>hospital_service_area</th>\n",
       "      <th>hospital_county</th>\n",
       "      <th>operating_certificate_number</th>\n",
       "      <th>permanent_facility_id</th>\n",
       "      <th>facility_name</th>\n",
       "      <th>age_group</th>\n",
       "      <th>zip_code_3_digits</th>\n",
       "      <th>gender</th>\n",
       "      <th>ethnicity</th>\n",
       "      <th>length_of_stay</th>\n",
       "      <th>...</th>\n",
       "      <th>payment_typology_2</th>\n",
       "      <th>payment_typology_3</th>\n",
       "      <th>birth_weight</th>\n",
       "      <th>emergency_department_indicator</th>\n",
       "      <th>total_charges</th>\n",
       "      <th>total_costs</th>\n",
       "      <th>Black/African American</th>\n",
       "      <th>Multi-racial</th>\n",
       "      <th>Other Race</th>\n",
       "      <th>White</th>\n",
       "    </tr>\n",
       "  </thead>\n",
       "  <tbody>\n",
       "    <tr>\n",
       "      <th>0</th>\n",
       "      <td>New York City</td>\n",
       "      <td>Bronx</td>\n",
       "      <td>7000008.0</td>\n",
       "      <td>1172.0</td>\n",
       "      <td>Lincoln Medical &amp; Mental Health Center</td>\n",
       "      <td>3</td>\n",
       "      <td>104</td>\n",
       "      <td>0</td>\n",
       "      <td>Unknown</td>\n",
       "      <td>45</td>\n",
       "      <td>...</td>\n",
       "      <td>Medicaid</td>\n",
       "      <td>NaN</td>\n",
       "      <td>NaN</td>\n",
       "      <td>1</td>\n",
       "      <td>487,295.01</td>\n",
       "      <td>311,442.42</td>\n",
       "      <td>0</td>\n",
       "      <td>0</td>\n",
       "      <td>1</td>\n",
       "      <td>0</td>\n",
       "    </tr>\n",
       "    <tr>\n",
       "      <th>1</th>\n",
       "      <td>New York City</td>\n",
       "      <td>Kings</td>\n",
       "      <td>7001016.0</td>\n",
       "      <td>1301.0</td>\n",
       "      <td>Kings County Hospital Center</td>\n",
       "      <td>4</td>\n",
       "      <td>112</td>\n",
       "      <td>1</td>\n",
       "      <td>Unknown</td>\n",
       "      <td>1</td>\n",
       "      <td>...</td>\n",
       "      <td>Medicare</td>\n",
       "      <td>NaN</td>\n",
       "      <td>NaN</td>\n",
       "      <td>1</td>\n",
       "      <td>12,299.22</td>\n",
       "      <td>8,878.39</td>\n",
       "      <td>1</td>\n",
       "      <td>0</td>\n",
       "      <td>0</td>\n",
       "      <td>0</td>\n",
       "    </tr>\n",
       "    <tr>\n",
       "      <th>2</th>\n",
       "      <td>New York City</td>\n",
       "      <td>Kings</td>\n",
       "      <td>7001016.0</td>\n",
       "      <td>1301.0</td>\n",
       "      <td>Kings County Hospital Center</td>\n",
       "      <td>2</td>\n",
       "      <td>112</td>\n",
       "      <td>1</td>\n",
       "      <td>Unknown</td>\n",
       "      <td>1</td>\n",
       "      <td>...</td>\n",
       "      <td>NaN</td>\n",
       "      <td>NaN</td>\n",
       "      <td>NaN</td>\n",
       "      <td>1</td>\n",
       "      <td>15,160.38</td>\n",
       "      <td>10,943.76</td>\n",
       "      <td>0</td>\n",
       "      <td>0</td>\n",
       "      <td>1</td>\n",
       "      <td>0</td>\n",
       "    </tr>\n",
       "    <tr>\n",
       "      <th>3</th>\n",
       "      <td>New York City</td>\n",
       "      <td>Kings</td>\n",
       "      <td>7001016.0</td>\n",
       "      <td>1301.0</td>\n",
       "      <td>Kings County Hospital Center</td>\n",
       "      <td>2</td>\n",
       "      <td>112</td>\n",
       "      <td>0</td>\n",
       "      <td>Spanish/Hispanic</td>\n",
       "      <td>1</td>\n",
       "      <td>...</td>\n",
       "      <td>NaN</td>\n",
       "      <td>NaN</td>\n",
       "      <td>NaN</td>\n",
       "      <td>1</td>\n",
       "      <td>22,786.29</td>\n",
       "      <td>16,448.65</td>\n",
       "      <td>0</td>\n",
       "      <td>0</td>\n",
       "      <td>0</td>\n",
       "      <td>1</td>\n",
       "    </tr>\n",
       "    <tr>\n",
       "      <th>4</th>\n",
       "      <td>New York City</td>\n",
       "      <td>Bronx</td>\n",
       "      <td>7000008.0</td>\n",
       "      <td>1172.0</td>\n",
       "      <td>Lincoln Medical &amp; Mental Health Center</td>\n",
       "      <td>1</td>\n",
       "      <td>104</td>\n",
       "      <td>0</td>\n",
       "      <td>Spanish/Hispanic</td>\n",
       "      <td>5</td>\n",
       "      <td>...</td>\n",
       "      <td>NaN</td>\n",
       "      <td>NaN</td>\n",
       "      <td>NaN</td>\n",
       "      <td>0</td>\n",
       "      <td>38,231.41</td>\n",
       "      <td>24,434.65</td>\n",
       "      <td>0</td>\n",
       "      <td>0</td>\n",
       "      <td>1</td>\n",
       "      <td>0</td>\n",
       "    </tr>\n",
       "  </tbody>\n",
       "</table>\n",
       "<p>5 rows × 36 columns</p>\n",
       "</div>"
      ],
      "text/plain": [
       "  hospital_service_area hospital_county  operating_certificate_number  \\\n",
       "0         New York City           Bronx                     7000008.0   \n",
       "1         New York City           Kings                     7001016.0   \n",
       "2         New York City           Kings                     7001016.0   \n",
       "3         New York City           Kings                     7001016.0   \n",
       "4         New York City           Bronx                     7000008.0   \n",
       "\n",
       "   permanent_facility_id                           facility_name  age_group  \\\n",
       "0                 1172.0  Lincoln Medical & Mental Health Center          3   \n",
       "1                 1301.0            Kings County Hospital Center          4   \n",
       "2                 1301.0            Kings County Hospital Center          2   \n",
       "3                 1301.0            Kings County Hospital Center          2   \n",
       "4                 1172.0  Lincoln Medical & Mental Health Center          1   \n",
       "\n",
       "  zip_code_3_digits  gender         ethnicity length_of_stay  ...  \\\n",
       "0               104       0           Unknown             45  ...   \n",
       "1               112       1           Unknown              1  ...   \n",
       "2               112       1           Unknown              1  ...   \n",
       "3               112       0  Spanish/Hispanic              1  ...   \n",
       "4               104       0  Spanish/Hispanic              5  ...   \n",
       "\n",
       "  payment_typology_2 payment_typology_3  birth_weight  \\\n",
       "0           Medicaid                NaN           NaN   \n",
       "1           Medicare                NaN           NaN   \n",
       "2                NaN                NaN           NaN   \n",
       "3                NaN                NaN           NaN   \n",
       "4                NaN                NaN           NaN   \n",
       "\n",
       "  emergency_department_indicator total_charges total_costs  \\\n",
       "0                              1    487,295.01  311,442.42   \n",
       "1                              1     12,299.22    8,878.39   \n",
       "2                              1     15,160.38   10,943.76   \n",
       "3                              1     22,786.29   16,448.65   \n",
       "4                              0     38,231.41   24,434.65   \n",
       "\n",
       "  Black/African American  Multi-racial Other Race  White  \n",
       "0                      0             0          1      0  \n",
       "1                      1             0          0      0  \n",
       "2                      0             0          1      0  \n",
       "3                      0             0          0      1  \n",
       "4                      0             0          1      0  \n",
       "\n",
       "[5 rows x 36 columns]"
      ]
     },
     "execution_count": 16,
     "metadata": {},
     "output_type": "execute_result"
    }
   ],
   "source": [
    "data.head()"
   ]
  },
  {
   "cell_type": "code",
   "execution_count": 17,
   "id": "f89e36c8",
   "metadata": {},
   "outputs": [
    {
     "data": {
      "text/plain": [
       "Index(['hospital_service_area', 'hospital_county',\n",
       "       'operating_certificate_number', 'permanent_facility_id',\n",
       "       'facility_name', 'age_group', 'zip_code_3_digits', 'gender',\n",
       "       'ethnicity', 'length_of_stay', 'type_of_admission',\n",
       "       'patient_disposition', 'discharge_year', 'ccsr_diagnosis_code',\n",
       "       'ccsr_diagnosis_description', 'ccsr_procedure_code',\n",
       "       'ccsr_procedure_description', 'apr_drg_code', 'apr_drg_description',\n",
       "       'apr_mdc_code', 'apr_mdc_description', 'apr_severity_of_illness_code',\n",
       "       'apr_severity_of_illness', 'apr_risk_of_mortality',\n",
       "       'apr_medical_surgical', 'payment_typology_1', 'payment_typology_2',\n",
       "       'payment_typology_3', 'birth_weight', 'emergency_department_indicator',\n",
       "       'total_charges', 'total_costs', 'Black/African American',\n",
       "       'Multi-racial', 'Other Race', 'White'],\n",
       "      dtype='object')"
      ]
     },
     "execution_count": 17,
     "metadata": {},
     "output_type": "execute_result"
    }
   ],
   "source": [
    "data.columns"
   ]
  },
  {
   "cell_type": "code",
   "execution_count": 18,
   "id": "026c25a6",
   "metadata": {},
   "outputs": [],
   "source": [
    "dropped_cols = ['hospital_county', 'operating_certificate_number', 'zip_code_3_digits', 'ethnicity']\n",
    "\n",
    "data.drop(columns=dropped_cols, inplace=True)"
   ]
  },
  {
   "cell_type": "code",
   "execution_count": 19,
   "id": "cfbadf13",
   "metadata": {},
   "outputs": [
    {
     "data": {
      "text/plain": [
       "array(['Emergency', 'Elective', 'Newborn', 'Urgent', 'Not Available',\n",
       "       'Trauma'], dtype=object)"
      ]
     },
     "execution_count": 19,
     "metadata": {},
     "output_type": "execute_result"
    }
   ],
   "source": [
    "data['type_of_admission'].unique()"
   ]
  },
  {
   "cell_type": "code",
   "execution_count": 20,
   "id": "3259c1b0",
   "metadata": {},
   "outputs": [
    {
     "data": {
      "text/plain": [
       "<Axes: xlabel='count', ylabel='type_of_admission'>"
      ]
     },
     "execution_count": 20,
     "metadata": {},
     "output_type": "execute_result"
    },
    {
     "data": {
      "image/png": "[encoded data removed]",
      "text/plain": [
       "<Figure size 640x480 with 1 Axes>"
      ]
     },
     "metadata": {},
     "output_type": "display_data"
    }
   ],
   "source": [
    "sns.countplot(data['type_of_admission'])\n"
   ]
  },
  {
   "cell_type": "code",
   "execution_count": 21,
   "id": "fae40aa6",
   "metadata": {},
   "outputs": [
    {
     "data": {
      "text/html": [
       "<div>\n",
       "<style scoped>\n",
       "    .dataframe tbody tr th:only-of-type {\n",
       "        vertical-align: middle;\n",
       "    }\n",
       "\n",
       "    .dataframe tbody tr th {\n",
       "        vertical-align: top;\n",
       "    }\n",
       "\n",
       "    .dataframe thead th {\n",
       "        text-align: right;\n",
       "    }\n",
       "</style>\n",
       "<table border=\"1\" class=\"dataframe\">\n",
       "  <thead>\n",
       "    <tr style=\"text-align: right;\">\n",
       "      <th></th>\n",
       "      <th>hospital_service_area</th>\n",
       "      <th>permanent_facility_id</th>\n",
       "      <th>facility_name</th>\n",
       "      <th>age_group</th>\n",
       "      <th>gender</th>\n",
       "      <th>length_of_stay</th>\n",
       "      <th>patient_disposition</th>\n",
       "      <th>discharge_year</th>\n",
       "      <th>ccsr_diagnosis_code</th>\n",
       "      <th>ccsr_diagnosis_description</th>\n",
       "      <th>...</th>\n",
       "      <th>Black/African American</th>\n",
       "      <th>Multi-racial</th>\n",
       "      <th>Other Race</th>\n",
       "      <th>White</th>\n",
       "      <th>Elective</th>\n",
       "      <th>Emergency</th>\n",
       "      <th>Newborn</th>\n",
       "      <th>Not Available</th>\n",
       "      <th>Trauma</th>\n",
       "      <th>Urgent</th>\n",
       "    </tr>\n",
       "  </thead>\n",
       "  <tbody>\n",
       "    <tr>\n",
       "      <th>0</th>\n",
       "      <td>New York City</td>\n",
       "      <td>1172.0</td>\n",
       "      <td>Lincoln Medical &amp; Mental Health Center</td>\n",
       "      <td>3</td>\n",
       "      <td>0</td>\n",
       "      <td>45</td>\n",
       "      <td>Skilled Nursing Home</td>\n",
       "      <td>2023</td>\n",
       "      <td>GEN004</td>\n",
       "      <td>Urinary tract infections</td>\n",
       "      <td>...</td>\n",
       "      <td>0</td>\n",
       "      <td>0</td>\n",
       "      <td>1</td>\n",
       "      <td>0</td>\n",
       "      <td>0</td>\n",
       "      <td>1</td>\n",
       "      <td>0</td>\n",
       "      <td>0</td>\n",
       "      <td>0</td>\n",
       "      <td>0</td>\n",
       "    </tr>\n",
       "    <tr>\n",
       "      <th>1</th>\n",
       "      <td>New York City</td>\n",
       "      <td>1301.0</td>\n",
       "      <td>Kings County Hospital Center</td>\n",
       "      <td>4</td>\n",
       "      <td>1</td>\n",
       "      <td>1</td>\n",
       "      <td>Left Against Medical Advice</td>\n",
       "      <td>2023</td>\n",
       "      <td>CIR017</td>\n",
       "      <td>Cardiac dysrhythmias</td>\n",
       "      <td>...</td>\n",
       "      <td>1</td>\n",
       "      <td>0</td>\n",
       "      <td>0</td>\n",
       "      <td>0</td>\n",
       "      <td>0</td>\n",
       "      <td>1</td>\n",
       "      <td>0</td>\n",
       "      <td>0</td>\n",
       "      <td>0</td>\n",
       "      <td>0</td>\n",
       "    </tr>\n",
       "  </tbody>\n",
       "</table>\n",
       "<p>2 rows × 37 columns</p>\n",
       "</div>"
      ],
      "text/plain": [
       "  hospital_service_area  permanent_facility_id  \\\n",
       "0         New York City                 1172.0   \n",
       "1         New York City                 1301.0   \n",
       "\n",
       "                            facility_name  age_group  gender length_of_stay  \\\n",
       "0  Lincoln Medical & Mental Health Center          3       0             45   \n",
       "1            Kings County Hospital Center          4       1              1   \n",
       "\n",
       "           patient_disposition  discharge_year ccsr_diagnosis_code  \\\n",
       "0         Skilled Nursing Home            2023              GEN004   \n",
       "1  Left Against Medical Advice            2023              CIR017   \n",
       "\n",
       "  ccsr_diagnosis_description  ... Black/African American Multi-racial  \\\n",
       "0   Urinary tract infections  ...                      0            0   \n",
       "1       Cardiac dysrhythmias  ...                      1            0   \n",
       "\n",
       "   Other Race White  Elective Emergency  Newborn Not Available Trauma Urgent  \n",
       "0           1     0         0         1        0             0      0      0  \n",
       "1           0     0         0         1        0             0      0      0  \n",
       "\n",
       "[2 rows x 37 columns]"
      ]
     },
     "execution_count": 21,
     "metadata": {},
     "output_type": "execute_result"
    }
   ],
   "source": [
    "type_of_admission_data = pd.get_dummies(data['type_of_admission']).astype('int')\n",
    "data = pd.concat([data, type_of_admission_data], axis=1)\n",
    "data = data.drop(columns=['type_of_admission'])\n",
    "data.head(2)"
   ]
  },
  {
   "cell_type": "code",
   "execution_count": 22,
   "id": "0d414f65",
   "metadata": {},
   "outputs": [
    {
     "data": {
      "text/plain": [
       "array(['45', '1', '5', '37', '2', '23', '7', '3', '8', '12', '25', '6',\n",
       "       '39', '16', '26', '10', '14', '29', '15', '4', '19', '9', '49',\n",
       "       '31', '58', '11', '42', '43', '32', '59', '17', '13', '28', '21',\n",
       "       '48', '77', '18', '35', '40', '24', '38', '34', '20', '71', '27',\n",
       "       '22', '30', '46', '47', '66', '55', '120 +', '36', '65', '50',\n",
       "       '87', '51', '53', '89', '88', '91', '52', '92', '41', '95', '44',\n",
       "       '33', '61', '75', '72', '105', '80', '74', '69', '85', '98', '54',\n",
       "       '99', '84', '112', '64', '83', '56', '68', '62', '76', '118', '79',\n",
       "       '63', '104', '93', '70', '107', '67', '57', '103', '73', '90',\n",
       "       '86', '115', '60', '117', '78', '102', '82', '108', '100', '114',\n",
       "       '111', '113', '94', '96', '109', '119', '106', '116', 2, 5, 3, 4,\n",
       "       1, 6, 13, 18, 7, 31, 17, 22, 8, 14, 16, 9, 11, 19, 15, 12, 10, 72,\n",
       "       34, 30, 35], dtype=object)"
      ]
     },
     "execution_count": 22,
     "metadata": {},
     "output_type": "execute_result"
    }
   ],
   "source": [
    "data['length_of_stay'].unique()"
   ]
  },
  {
   "cell_type": "code",
   "execution_count": 23,
   "id": "0c110012",
   "metadata": {},
   "outputs": [
    {
     "data": {
      "text/plain": [
       "array([ 45,   1,   5,  37,   2,  23,   7,   3,   8,  12,  25,   6,  39,\n",
       "        16,  26,  10,  14,  29,  15,   4,  19,   9,  49,  31,  58,  11,\n",
       "        42,  43,  32,  59,  17,  13,  28,  21,  48,  77,  18,  35,  40,\n",
       "        24,  38,  34,  20,  71,  27,  22,  30,  46,  47,  66,  55, 120,\n",
       "        36,  65,  50,  87,  51,  53,  89,  88,  91,  52,  92,  41,  95,\n",
       "        44,  33,  61,  75,  72, 105,  80,  74,  69,  85,  98,  54,  99,\n",
       "        84, 112,  64,  83,  56,  68,  62,  76, 118,  79,  63, 104,  93,\n",
       "        70, 107,  67,  57, 103,  73,  90,  86, 115,  60, 117,  78, 102,\n",
       "        82, 108, 100, 114, 111, 113,  94,  96, 109, 119, 106, 116])"
      ]
     },
     "execution_count": 23,
     "metadata": {},
     "output_type": "execute_result"
    }
   ],
   "source": [
    "def clean_length_of_stay(x):\n",
    "    x = str(x).strip('').split(' ')[0]\n",
    "    return x\n",
    "\n",
    "data['length_of_stay'] = data['length_of_stay'].apply(clean_length_of_stay).astype('int')\n",
    "data['length_of_stay'].unique()"
   ]
  },
  {
   "cell_type": "code",
   "execution_count": 24,
   "id": "26c3f0ee",
   "metadata": {},
   "outputs": [],
   "source": [
    "data['length_of_stay'] = data['length_of_stay'].astype('int')"
   ]
  },
  {
   "cell_type": "code",
   "execution_count": 26,
   "id": "ce4f383f",
   "metadata": {},
   "outputs": [
    {
     "data": {
      "text/plain": [
       "<Axes: xlabel='length_of_stay_binned', ylabel='Count'>"
      ]
     },
     "execution_count": 26,
     "metadata": {},
     "output_type": "execute_result"
    },
    {
     "data": {
      "image/png": "[encoded data removed]",
      "text/plain": [
       "<Figure size 640x480 with 1 Axes>"
      ]
     },
     "metadata": {},
     "output_type": "display_data"
    }
   ],
   "source": [
    "bins = [0, 5, 10, 20, np.inf]\n",
    "labels = ['0-5', '5-10', '10-20', '20+']\n",
    "\n",
    "data['length_of_stay_binned'] = pd.cut(data['length_of_stay'], bins=bins, labels=labels, include_lowest=True)\n",
    "\n",
    "sns.histplot(data['length_of_stay_binned'])"
   ]
  }
 ],
 "metadata": {
  "kernelspec": {
   "display_name": "usr",
   "language": "python",
   "name": "python3"
  },
  "language_info": {
   "codemirror_mode": {
    "name": "ipython",
    "version": 3
   },
   "file_extension": ".py",
   "mimetype": "text/x-python",
   "name": "python",
   "nbconvert_exporter": "python",
   "pygments_lexer": "ipython3",
   "version": "3.10.12"
  }
 },
 "nbformat": 4,
 "nbformat_minor": 5
}
